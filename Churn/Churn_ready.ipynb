{
 "cells": [
  {
   "cell_type": "markdown",
   "id": "37f7dd33",
   "metadata": {},
   "source": [
    "# 📊 Анализ оттока клиентов телеком-компании\n",
    "\n",
    "В этом проекте проведен анализ оттока клиентов компании, начиная с изучения данных, их обработки, построения моделей и оценки финальных результатов. Цель — построить модель, которая сможет точно предсказывать вероятность ухода клиента, при этом акцент на снижении ошибок второго рода (лучше классифицировать клиентов, которые уйдут)."
   ]
  },
  {
   "cell_type": "code",
   "execution_count": 1,
   "id": "98c9e77b-5b03-4398-b563-5c63bfa5669e",
   "metadata": {},
   "outputs": [],
   "source": [
    "# импорт библиотек и метрик\n",
    "import pandas as pd\n",
    "import matplotlib.pyplot as plt\n",
    "import seaborn as sns\n",
    "import numpy as np\n",
    "from scipy import stats as st\n",
    "\n",
    "\n",
    "from sklearn.linear_model import LinearRegression, LogisticRegression\n",
    "from sklearn.svm import SVC\n",
    "from sklearn.neighbors import KNeighborsClassifier\n",
    "from sklearn.tree import DecisionTreeClassifier, plot_tree, export_text\n",
    "from sklearn.pipeline import Pipeline\n",
    "from sklearn.metrics import (accuracy_score, precision_score, recall_score, f1_score, \n",
    "                            ConfusionMatrixDisplay, confusion_matrix, roc_curve, roc_auc_score, mean_absolute_error)\n",
    "from sklearn.preprocessing import StandardScaler, MinMaxScaler, OneHotEncoder, OrdinalEncoder\n",
    "from sklearn.model_selection import train_test_split, cross_val_score, GridSearchCV, RandomizedSearchCV, ParameterGrid\n",
    "from sklearn.impute import SimpleImputer\n",
    "from sklearn.compose import ColumnTransformer\n",
    "from sklearn.base import clone\n",
    "\n",
    "import time\n",
    "from tqdm import tqdm\n",
    "import re\n",
    "\n",
    "from sklearn.datasets import fetch_california_housing\n",
    "\n",
    "from catboost import CatBoostRegressor, CatBoostClassifier, Pool\n",
    "from lightgbm import LGBMRegressor, LGBMClassifier\n",
    "from xgboost import XGBRegressor, XGBClassifier\n",
    "\n",
    "from scipy.stats import chi2_contingency\n",
    "\n",
    "from IPython.display import display, Markdown\n",
    "\n",
    "import warnings\n",
    "warnings.filterwarnings(\"ignore\", category=UserWarning, module='sklearn.utils.validation')"
   ]
  },
  {
   "cell_type": "markdown",
   "id": "12ba8c43",
   "metadata": {},
   "source": [
    "# 📁 Загрузка данных и первичный анализ"
   ]
  },
  {
   "cell_type": "code",
   "execution_count": 2,
   "id": "85928257-44de-481e-be8f-f9c977704ad4",
   "metadata": {},
   "outputs": [],
   "source": [
    "data = pd.read_csv('Churn.csv')"
   ]
  },
  {
   "cell_type": "code",
   "execution_count": 3,
   "id": "1f2e12b9-4acc-42e6-83df-d822f9eea7b0",
   "metadata": {},
   "outputs": [
    {
     "data": {
      "text/html": [
       "<div>\n",
       "<style scoped>\n",
       "    .dataframe tbody tr th:only-of-type {\n",
       "        vertical-align: middle;\n",
       "    }\n",
       "\n",
       "    .dataframe tbody tr th {\n",
       "        vertical-align: top;\n",
       "    }\n",
       "\n",
       "    .dataframe thead th {\n",
       "        text-align: right;\n",
       "    }\n",
       "</style>\n",
       "<table border=\"1\" class=\"dataframe\">\n",
       "  <thead>\n",
       "    <tr style=\"text-align: right;\">\n",
       "      <th></th>\n",
       "      <th>customerID</th>\n",
       "      <th>gender</th>\n",
       "      <th>SeniorCitizen</th>\n",
       "      <th>Partner</th>\n",
       "      <th>Dependents</th>\n",
       "      <th>tenure</th>\n",
       "      <th>PhoneService</th>\n",
       "      <th>MultipleLines</th>\n",
       "      <th>InternetService</th>\n",
       "      <th>OnlineSecurity</th>\n",
       "      <th>...</th>\n",
       "      <th>DeviceProtection</th>\n",
       "      <th>TechSupport</th>\n",
       "      <th>StreamingTV</th>\n",
       "      <th>StreamingMovies</th>\n",
       "      <th>Contract</th>\n",
       "      <th>PaperlessBilling</th>\n",
       "      <th>PaymentMethod</th>\n",
       "      <th>MonthlyCharges</th>\n",
       "      <th>TotalCharges</th>\n",
       "      <th>Churn</th>\n",
       "    </tr>\n",
       "  </thead>\n",
       "  <tbody>\n",
       "    <tr>\n",
       "      <th>0</th>\n",
       "      <td>7590-VHVEG</td>\n",
       "      <td>Female</td>\n",
       "      <td>0</td>\n",
       "      <td>Yes</td>\n",
       "      <td>No</td>\n",
       "      <td>1</td>\n",
       "      <td>No</td>\n",
       "      <td>No phone service</td>\n",
       "      <td>DSL</td>\n",
       "      <td>No</td>\n",
       "      <td>...</td>\n",
       "      <td>No</td>\n",
       "      <td>No</td>\n",
       "      <td>No</td>\n",
       "      <td>No</td>\n",
       "      <td>Month-to-month</td>\n",
       "      <td>Yes</td>\n",
       "      <td>Electronic check</td>\n",
       "      <td>29.85</td>\n",
       "      <td>29.85</td>\n",
       "      <td>No</td>\n",
       "    </tr>\n",
       "    <tr>\n",
       "      <th>1</th>\n",
       "      <td>5575-GNVDE</td>\n",
       "      <td>Male</td>\n",
       "      <td>0</td>\n",
       "      <td>No</td>\n",
       "      <td>No</td>\n",
       "      <td>34</td>\n",
       "      <td>Yes</td>\n",
       "      <td>No</td>\n",
       "      <td>DSL</td>\n",
       "      <td>Yes</td>\n",
       "      <td>...</td>\n",
       "      <td>Yes</td>\n",
       "      <td>No</td>\n",
       "      <td>No</td>\n",
       "      <td>No</td>\n",
       "      <td>One year</td>\n",
       "      <td>No</td>\n",
       "      <td>Mailed check</td>\n",
       "      <td>56.95</td>\n",
       "      <td>1889.5</td>\n",
       "      <td>No</td>\n",
       "    </tr>\n",
       "    <tr>\n",
       "      <th>2</th>\n",
       "      <td>3668-QPYBK</td>\n",
       "      <td>Male</td>\n",
       "      <td>0</td>\n",
       "      <td>No</td>\n",
       "      <td>No</td>\n",
       "      <td>2</td>\n",
       "      <td>Yes</td>\n",
       "      <td>No</td>\n",
       "      <td>DSL</td>\n",
       "      <td>Yes</td>\n",
       "      <td>...</td>\n",
       "      <td>No</td>\n",
       "      <td>No</td>\n",
       "      <td>No</td>\n",
       "      <td>No</td>\n",
       "      <td>Month-to-month</td>\n",
       "      <td>Yes</td>\n",
       "      <td>Mailed check</td>\n",
       "      <td>53.85</td>\n",
       "      <td>108.15</td>\n",
       "      <td>Yes</td>\n",
       "    </tr>\n",
       "    <tr>\n",
       "      <th>3</th>\n",
       "      <td>7795-CFOCW</td>\n",
       "      <td>Male</td>\n",
       "      <td>0</td>\n",
       "      <td>No</td>\n",
       "      <td>No</td>\n",
       "      <td>45</td>\n",
       "      <td>No</td>\n",
       "      <td>No phone service</td>\n",
       "      <td>DSL</td>\n",
       "      <td>Yes</td>\n",
       "      <td>...</td>\n",
       "      <td>Yes</td>\n",
       "      <td>Yes</td>\n",
       "      <td>No</td>\n",
       "      <td>No</td>\n",
       "      <td>One year</td>\n",
       "      <td>No</td>\n",
       "      <td>Bank transfer (automatic)</td>\n",
       "      <td>42.30</td>\n",
       "      <td>1840.75</td>\n",
       "      <td>No</td>\n",
       "    </tr>\n",
       "    <tr>\n",
       "      <th>4</th>\n",
       "      <td>9237-HQITU</td>\n",
       "      <td>Female</td>\n",
       "      <td>0</td>\n",
       "      <td>No</td>\n",
       "      <td>No</td>\n",
       "      <td>2</td>\n",
       "      <td>Yes</td>\n",
       "      <td>No</td>\n",
       "      <td>Fiber optic</td>\n",
       "      <td>No</td>\n",
       "      <td>...</td>\n",
       "      <td>No</td>\n",
       "      <td>No</td>\n",
       "      <td>No</td>\n",
       "      <td>No</td>\n",
       "      <td>Month-to-month</td>\n",
       "      <td>Yes</td>\n",
       "      <td>Electronic check</td>\n",
       "      <td>70.70</td>\n",
       "      <td>151.65</td>\n",
       "      <td>Yes</td>\n",
       "    </tr>\n",
       "    <tr>\n",
       "      <th>5</th>\n",
       "      <td>9305-CDSKC</td>\n",
       "      <td>Female</td>\n",
       "      <td>0</td>\n",
       "      <td>No</td>\n",
       "      <td>No</td>\n",
       "      <td>8</td>\n",
       "      <td>Yes</td>\n",
       "      <td>Yes</td>\n",
       "      <td>Fiber optic</td>\n",
       "      <td>No</td>\n",
       "      <td>...</td>\n",
       "      <td>Yes</td>\n",
       "      <td>No</td>\n",
       "      <td>Yes</td>\n",
       "      <td>Yes</td>\n",
       "      <td>Month-to-month</td>\n",
       "      <td>Yes</td>\n",
       "      <td>Electronic check</td>\n",
       "      <td>99.65</td>\n",
       "      <td>820.5</td>\n",
       "      <td>Yes</td>\n",
       "    </tr>\n",
       "    <tr>\n",
       "      <th>6</th>\n",
       "      <td>1452-KIOVK</td>\n",
       "      <td>Male</td>\n",
       "      <td>0</td>\n",
       "      <td>No</td>\n",
       "      <td>Yes</td>\n",
       "      <td>22</td>\n",
       "      <td>Yes</td>\n",
       "      <td>Yes</td>\n",
       "      <td>Fiber optic</td>\n",
       "      <td>No</td>\n",
       "      <td>...</td>\n",
       "      <td>No</td>\n",
       "      <td>No</td>\n",
       "      <td>Yes</td>\n",
       "      <td>No</td>\n",
       "      <td>Month-to-month</td>\n",
       "      <td>Yes</td>\n",
       "      <td>Credit card (automatic)</td>\n",
       "      <td>89.10</td>\n",
       "      <td>1949.4</td>\n",
       "      <td>No</td>\n",
       "    </tr>\n",
       "    <tr>\n",
       "      <th>7</th>\n",
       "      <td>6713-OKOMC</td>\n",
       "      <td>Female</td>\n",
       "      <td>0</td>\n",
       "      <td>No</td>\n",
       "      <td>No</td>\n",
       "      <td>10</td>\n",
       "      <td>No</td>\n",
       "      <td>No phone service</td>\n",
       "      <td>DSL</td>\n",
       "      <td>Yes</td>\n",
       "      <td>...</td>\n",
       "      <td>No</td>\n",
       "      <td>No</td>\n",
       "      <td>No</td>\n",
       "      <td>No</td>\n",
       "      <td>Month-to-month</td>\n",
       "      <td>No</td>\n",
       "      <td>Mailed check</td>\n",
       "      <td>29.75</td>\n",
       "      <td>301.9</td>\n",
       "      <td>No</td>\n",
       "    </tr>\n",
       "    <tr>\n",
       "      <th>8</th>\n",
       "      <td>7892-POOKP</td>\n",
       "      <td>Female</td>\n",
       "      <td>0</td>\n",
       "      <td>Yes</td>\n",
       "      <td>No</td>\n",
       "      <td>28</td>\n",
       "      <td>Yes</td>\n",
       "      <td>Yes</td>\n",
       "      <td>Fiber optic</td>\n",
       "      <td>No</td>\n",
       "      <td>...</td>\n",
       "      <td>Yes</td>\n",
       "      <td>Yes</td>\n",
       "      <td>Yes</td>\n",
       "      <td>Yes</td>\n",
       "      <td>Month-to-month</td>\n",
       "      <td>Yes</td>\n",
       "      <td>Electronic check</td>\n",
       "      <td>104.80</td>\n",
       "      <td>3046.05</td>\n",
       "      <td>Yes</td>\n",
       "    </tr>\n",
       "    <tr>\n",
       "      <th>9</th>\n",
       "      <td>6388-TABGU</td>\n",
       "      <td>Male</td>\n",
       "      <td>0</td>\n",
       "      <td>No</td>\n",
       "      <td>Yes</td>\n",
       "      <td>62</td>\n",
       "      <td>Yes</td>\n",
       "      <td>No</td>\n",
       "      <td>DSL</td>\n",
       "      <td>Yes</td>\n",
       "      <td>...</td>\n",
       "      <td>No</td>\n",
       "      <td>No</td>\n",
       "      <td>No</td>\n",
       "      <td>No</td>\n",
       "      <td>One year</td>\n",
       "      <td>No</td>\n",
       "      <td>Bank transfer (automatic)</td>\n",
       "      <td>56.15</td>\n",
       "      <td>3487.95</td>\n",
       "      <td>No</td>\n",
       "    </tr>\n",
       "  </tbody>\n",
       "</table>\n",
       "<p>10 rows × 21 columns</p>\n",
       "</div>"
      ],
      "text/plain": [
       "   customerID  gender  SeniorCitizen Partner Dependents  tenure PhoneService  \\\n",
       "0  7590-VHVEG  Female              0     Yes         No       1           No   \n",
       "1  5575-GNVDE    Male              0      No         No      34          Yes   \n",
       "2  3668-QPYBK    Male              0      No         No       2          Yes   \n",
       "3  7795-CFOCW    Male              0      No         No      45           No   \n",
       "4  9237-HQITU  Female              0      No         No       2          Yes   \n",
       "5  9305-CDSKC  Female              0      No         No       8          Yes   \n",
       "6  1452-KIOVK    Male              0      No        Yes      22          Yes   \n",
       "7  6713-OKOMC  Female              0      No         No      10           No   \n",
       "8  7892-POOKP  Female              0     Yes         No      28          Yes   \n",
       "9  6388-TABGU    Male              0      No        Yes      62          Yes   \n",
       "\n",
       "      MultipleLines InternetService OnlineSecurity  ... DeviceProtection  \\\n",
       "0  No phone service             DSL             No  ...               No   \n",
       "1                No             DSL            Yes  ...              Yes   \n",
       "2                No             DSL            Yes  ...               No   \n",
       "3  No phone service             DSL            Yes  ...              Yes   \n",
       "4                No     Fiber optic             No  ...               No   \n",
       "5               Yes     Fiber optic             No  ...              Yes   \n",
       "6               Yes     Fiber optic             No  ...               No   \n",
       "7  No phone service             DSL            Yes  ...               No   \n",
       "8               Yes     Fiber optic             No  ...              Yes   \n",
       "9                No             DSL            Yes  ...               No   \n",
       "\n",
       "  TechSupport StreamingTV StreamingMovies        Contract PaperlessBilling  \\\n",
       "0          No          No              No  Month-to-month              Yes   \n",
       "1          No          No              No        One year               No   \n",
       "2          No          No              No  Month-to-month              Yes   \n",
       "3         Yes          No              No        One year               No   \n",
       "4          No          No              No  Month-to-month              Yes   \n",
       "5          No         Yes             Yes  Month-to-month              Yes   \n",
       "6          No         Yes              No  Month-to-month              Yes   \n",
       "7          No          No              No  Month-to-month               No   \n",
       "8         Yes         Yes             Yes  Month-to-month              Yes   \n",
       "9          No          No              No        One year               No   \n",
       "\n",
       "               PaymentMethod MonthlyCharges  TotalCharges Churn  \n",
       "0           Electronic check          29.85         29.85    No  \n",
       "1               Mailed check          56.95        1889.5    No  \n",
       "2               Mailed check          53.85        108.15   Yes  \n",
       "3  Bank transfer (automatic)          42.30       1840.75    No  \n",
       "4           Electronic check          70.70        151.65   Yes  \n",
       "5           Electronic check          99.65         820.5   Yes  \n",
       "6    Credit card (automatic)          89.10        1949.4    No  \n",
       "7               Mailed check          29.75         301.9    No  \n",
       "8           Electronic check         104.80       3046.05   Yes  \n",
       "9  Bank transfer (automatic)          56.15       3487.95    No  \n",
       "\n",
       "[10 rows x 21 columns]"
      ]
     },
     "metadata": {},
     "output_type": "display_data"
    },
    {
     "name": "stdout",
     "output_type": "stream",
     "text": [
      "<class 'pandas.core.frame.DataFrame'>\n",
      "RangeIndex: 7043 entries, 0 to 7042\n",
      "Data columns (total 21 columns):\n",
      " #   Column            Non-Null Count  Dtype  \n",
      "---  ------            --------------  -----  \n",
      " 0   customerID        7043 non-null   object \n",
      " 1   gender            7043 non-null   object \n",
      " 2   SeniorCitizen     7043 non-null   int64  \n",
      " 3   Partner           7043 non-null   object \n",
      " 4   Dependents        7043 non-null   object \n",
      " 5   tenure            7043 non-null   int64  \n",
      " 6   PhoneService      7043 non-null   object \n",
      " 7   MultipleLines     7043 non-null   object \n",
      " 8   InternetService   7043 non-null   object \n",
      " 9   OnlineSecurity    7043 non-null   object \n",
      " 10  OnlineBackup      7043 non-null   object \n",
      " 11  DeviceProtection  7043 non-null   object \n",
      " 12  TechSupport       7043 non-null   object \n",
      " 13  StreamingTV       7043 non-null   object \n",
      " 14  StreamingMovies   7043 non-null   object \n",
      " 15  Contract          7043 non-null   object \n",
      " 16  PaperlessBilling  7043 non-null   object \n",
      " 17  PaymentMethod     7043 non-null   object \n",
      " 18  MonthlyCharges    7043 non-null   float64\n",
      " 19  TotalCharges      7043 non-null   object \n",
      " 20  Churn             7043 non-null   object \n",
      "dtypes: float64(1), int64(2), object(18)\n",
      "memory usage: 1.1+ MB\n"
     ]
    }
   ],
   "source": [
    "display(data.head(10))\n",
    "data.info()"
   ]
  },
  {
   "cell_type": "markdown",
   "id": "d813db79-92bf-4093-b661-8e0271055e15",
   "metadata": {},
   "source": [
    "🔍 **Вывод:** В датасете присутствуют как числовые, так и категориальные признаки. Целевой признак — `churn`, принимает значения `'Yes'` и `'No'`."
   ]
  },
  {
   "cell_type": "code",
   "execution_count": 4,
   "id": "e817a4da-bbf3-4f07-8c24-29a79437d49d",
   "metadata": {},
   "outputs": [],
   "source": [
    "data.drop(columns=['customerID'], inplace=True)"
   ]
  },
  {
   "cell_type": "code",
   "execution_count": 5,
   "id": "bf1cea93-b5cc-4e27-9f52-7212a39b22b0",
   "metadata": {},
   "outputs": [
    {
     "data": {
      "text/html": [
       "<div>\n",
       "<style scoped>\n",
       "    .dataframe tbody tr th:only-of-type {\n",
       "        vertical-align: middle;\n",
       "    }\n",
       "\n",
       "    .dataframe tbody tr th {\n",
       "        vertical-align: top;\n",
       "    }\n",
       "\n",
       "    .dataframe thead th {\n",
       "        text-align: right;\n",
       "    }\n",
       "</style>\n",
       "<table border=\"1\" class=\"dataframe\">\n",
       "  <thead>\n",
       "    <tr style=\"text-align: right;\">\n",
       "      <th></th>\n",
       "      <th>gender</th>\n",
       "      <th>senior_citizen</th>\n",
       "      <th>partner</th>\n",
       "      <th>dependents</th>\n",
       "      <th>tenure</th>\n",
       "      <th>phone_service</th>\n",
       "      <th>multiple_lines</th>\n",
       "      <th>internet_service</th>\n",
       "      <th>online_security</th>\n",
       "      <th>online_backup</th>\n",
       "      <th>device_protection</th>\n",
       "      <th>tech_support</th>\n",
       "      <th>streaming_tv</th>\n",
       "      <th>streaming_movies</th>\n",
       "      <th>contract</th>\n",
       "      <th>paperless_billing</th>\n",
       "      <th>payment_method</th>\n",
       "      <th>monthly_charges</th>\n",
       "      <th>total_charges</th>\n",
       "      <th>churn</th>\n",
       "    </tr>\n",
       "  </thead>\n",
       "  <tbody>\n",
       "  </tbody>\n",
       "</table>\n",
       "</div>"
      ],
      "text/plain": [
       "Empty DataFrame\n",
       "Columns: [gender, senior_citizen, partner, dependents, tenure, phone_service, multiple_lines, internet_service, online_security, online_backup, device_protection, tech_support, streaming_tv, streaming_movies, contract, paperless_billing, payment_method, monthly_charges, total_charges, churn]\n",
       "Index: []"
      ]
     },
     "metadata": {},
     "output_type": "display_data"
    }
   ],
   "source": [
    "def to_snake_case(name):\n",
    "    import re\n",
    "    name = re.sub('(.)([A-Z][a-z]+)', r'\\1_\\2', name)\n",
    "    name = re.sub('([a-z0-9])([A-Z])', r'\\1_\\2', name)\n",
    "    return name.lower()\n",
    "\n",
    "data.columns = [to_snake_case(col) for col in data.columns]\n",
    "\n",
    "display(data.head(0))"
   ]
  },
  {
   "cell_type": "code",
   "execution_count": 6,
   "id": "d2b62843-5340-4fb8-8b7a-92f382db79cf",
   "metadata": {},
   "outputs": [
    {
     "name": "stdout",
     "output_type": "stream",
     "text": [
      "Количество пропусков в каждом из столбцов:\n",
      "gender               0\n",
      "senior_citizen       0\n",
      "partner              0\n",
      "dependents           0\n",
      "tenure               0\n",
      "phone_service        0\n",
      "multiple_lines       0\n",
      "internet_service     0\n",
      "online_security      0\n",
      "online_backup        0\n",
      "device_protection    0\n",
      "tech_support         0\n",
      "streaming_tv         0\n",
      "streaming_movies     0\n",
      "contract             0\n",
      "paperless_billing    0\n",
      "payment_method       0\n",
      "monthly_charges      0\n",
      "total_charges        0\n",
      "churn                0\n",
      "dtype: int64\n"
     ]
    }
   ],
   "source": [
    "print('Количество пропусков в каждом из столбцов:')\n",
    "print(data.isna().sum())"
   ]
  },
  {
   "cell_type": "code",
   "execution_count": 7,
   "id": "2e52f969-7108-4105-9139-44782048699d",
   "metadata": {},
   "outputs": [
    {
     "name": "stdout",
     "output_type": "stream",
     "text": [
      "Количество дубликатов: 22\n"
     ]
    }
   ],
   "source": [
    "print(f'Количество дубликатов: {data.duplicated().sum()}')"
   ]
  },
  {
   "cell_type": "code",
   "execution_count": 8,
   "id": "c9b94233-aff4-4e5a-92ae-8ab22c40adf7",
   "metadata": {},
   "outputs": [],
   "source": [
    "data = data.drop_duplicates()"
   ]
  },
  {
   "cell_type": "code",
   "execution_count": 9,
   "id": "89d5b394-d001-41be-904c-f2bfdd07d9a5",
   "metadata": {},
   "outputs": [
    {
     "name": "stderr",
     "output_type": "stream",
     "text": [
      "/var/folders/1j/wgf74c1d3f116n7z14dqwqcr0000gn/T/ipykernel_91480/2299167596.py:1: FutureWarning: Setting an item of incompatible dtype is deprecated and will raise in a future error of pandas. Value '['No' 'No' 'No' ... 'No' 'Yes' 'No']' has dtype incompatible with int64, please explicitly cast to a compatible dtype first.\n",
      "  data.loc[:, 'senior_citizen'] = data['senior_citizen'].replace({0: 'No', 1: 'Yes'})\n"
     ]
    }
   ],
   "source": [
    "data.loc[:, 'senior_citizen'] = data['senior_citizen'].replace({0: 'No', 1: 'Yes'})"
   ]
  },
  {
   "cell_type": "code",
   "execution_count": 10,
   "id": "5d431459-a7ab-404b-b9c5-71ce18aaf95e",
   "metadata": {},
   "outputs": [
    {
     "name": "stdout",
     "output_type": "stream",
     "text": [
      "Столбец: gender\n",
      "['Female' 'Male']\n",
      "--------------------------------------------------\n",
      "Столбец: senior_citizen\n",
      "['No' 'Yes']\n",
      "--------------------------------------------------\n",
      "Столбец: partner\n",
      "['Yes' 'No']\n",
      "--------------------------------------------------\n",
      "Столбец: dependents\n",
      "['No' 'Yes']\n",
      "--------------------------------------------------\n",
      "Столбец: phone_service\n",
      "['No' 'Yes']\n",
      "--------------------------------------------------\n",
      "Столбец: multiple_lines\n",
      "['No phone service' 'No' 'Yes']\n",
      "--------------------------------------------------\n",
      "Столбец: internet_service\n",
      "['DSL' 'Fiber optic' 'No']\n",
      "--------------------------------------------------\n",
      "Столбец: online_security\n",
      "['No' 'Yes' 'No internet service']\n",
      "--------------------------------------------------\n",
      "Столбец: online_backup\n",
      "['Yes' 'No' 'No internet service']\n",
      "--------------------------------------------------\n",
      "Столбец: device_protection\n",
      "['No' 'Yes' 'No internet service']\n",
      "--------------------------------------------------\n",
      "Столбец: tech_support\n",
      "['No' 'Yes' 'No internet service']\n",
      "--------------------------------------------------\n",
      "Столбец: streaming_tv\n",
      "['No' 'Yes' 'No internet service']\n",
      "--------------------------------------------------\n",
      "Столбец: streaming_movies\n",
      "['No' 'Yes' 'No internet service']\n",
      "--------------------------------------------------\n",
      "Столбец: contract\n",
      "['Month-to-month' 'One year' 'Two year']\n",
      "--------------------------------------------------\n",
      "Столбец: paperless_billing\n",
      "['Yes' 'No']\n",
      "--------------------------------------------------\n",
      "Столбец: payment_method\n",
      "['Electronic check' 'Mailed check' 'Bank transfer (automatic)'\n",
      " 'Credit card (automatic)']\n",
      "--------------------------------------------------\n",
      "Столбец: total_charges\n",
      "['29.85' '1889.5' '108.15' ... '346.45' '306.6' '6844.5']\n",
      "--------------------------------------------------\n",
      "Столбец: churn\n",
      "['No' 'Yes']\n",
      "--------------------------------------------------\n"
     ]
    }
   ],
   "source": [
    "for col in data.select_dtypes(include='object').columns:\n",
    "    print(f\"Столбец: {col}\")\n",
    "    print(data[col].unique())\n",
    "    print(\"-\" * 50)"
   ]
  },
  {
   "cell_type": "code",
   "execution_count": 11,
   "id": "45e3f2ea-5a0c-42a6-b3bc-710a90f882fc",
   "metadata": {},
   "outputs": [
    {
     "name": "stdout",
     "output_type": "stream",
     "text": [
      "11\n"
     ]
    }
   ],
   "source": [
    "data = data.copy()\n",
    "data['total_charges'] = data['total_charges'].replace(' ', np.nan)\n",
    "data['total_charges'] = data['total_charges'].astype('float')\n",
    "print(data['total_charges'].isna().sum())  "
   ]
  },
  {
   "cell_type": "code",
   "execution_count": 12,
   "id": "1e1ccbb5-3083-41e1-b587-04d30525fe1a",
   "metadata": {},
   "outputs": [
    {
     "name": "stdout",
     "output_type": "stream",
     "text": [
      "      monthly_charges  tenure  total_charges\n",
      "488             52.55       0            0.0\n",
      "753             20.25       0            0.0\n",
      "936             80.85       0            0.0\n",
      "1082            25.75       0            0.0\n",
      "1340            56.05       0            0.0\n",
      "3331            19.85       0            0.0\n",
      "3826            25.35       0            0.0\n",
      "4380            20.00       0            0.0\n",
      "5218            19.70       0            0.0\n",
      "6670            73.35       0            0.0\n",
      "6754            61.90       0            0.0\n"
     ]
    }
   ],
   "source": [
    "missing_total_idx = data[data['total_charges'].isna()].index\n",
    "\n",
    "data.loc[missing_total_idx, 'total_charges'] = (\n",
    "    data.loc[missing_total_idx, 'monthly_charges'] * data.loc[missing_total_idx, 'tenure']\n",
    ")\n",
    "\n",
    "print(data.loc[missing_total_idx, ['monthly_charges', 'tenure', 'total_charges']])"
   ]
  },
  {
   "cell_type": "markdown",
   "id": "62ac05f1-3b94-45c6-8229-278b6a4f6a14",
   "metadata": {},
   "source": [
    "**Вывод по предобработке данных:**\n",
    "- Названия столбцов приведены к корректному стилю\n",
    "- Обработаны пропуски\n",
    "- Исключены явные дубликаты\n",
    "- Неявные дубликаты не обнаружены"
   ]
  },
  {
   "cell_type": "markdown",
   "id": "db0a5ac7",
   "metadata": {},
   "source": [
    "# 🔍 Исследовательский анализ данных (EDA)"
   ]
  },
  {
   "cell_type": "code",
   "execution_count": 13,
   "id": "bee881ef-440d-4cf0-94fd-64cf09963ce6",
   "metadata": {},
   "outputs": [
    {
     "data": {
      "image/png": "[encoded data removed]",
      "text/plain": [
       "<Figure size 640x480 with 1 Axes>"
      ]
     },
     "metadata": {},
     "output_type": "display_data"
    },
    {
     "data": {
      "text/plain": [
       "churn\n",
       "No     5164\n",
       "Yes    1857\n",
       "Name: count, dtype: int64"
      ]
     },
     "execution_count": 13,
     "metadata": {},
     "output_type": "execute_result"
    }
   ],
   "source": [
    "data['churn'].value_counts().plot(kind='bar')\n",
    "plt.title('Частотность способов оплаты')\n",
    "plt.xticks(rotation=45)\n",
    "plt.show()\n",
    "data['churn'].value_counts()"
   ]
  },
  {
   "cell_type": "markdown",
   "id": "499f007f-d620-4892-88c6-808b3de7d114",
   "metadata": {},
   "source": [
    "⚠️ **Наблюдение:** Целевая переменная имеет выраженный дисбаланс классов: клиентов, остающихся - больше. Это стоит учесть при построении моделей — например, использовать взвешивание классов."
   ]
  },
  {
   "cell_type": "markdown",
   "id": "480c2ff8",
   "metadata": {},
   "source": [
    "## 📈 Визуализация категориальных признаков"
   ]
  },
  {
   "cell_type": "code",
   "execution_count": null,
   "id": "62cf57ea-d7b9-4d1c-9050-dbb9e50e0c27",
   "metadata": {},
   "outputs": [
    {
     "data": {
      "image/png": "[encoded data removed]",
      "text/plain": [
       "<Figure size 1200x500 with 2 Axes>"
      ]
     },
     "metadata": {},
     "output_type": "display_data"
    },
    {
     "data": {
      "image/png": "[encoded data removed]",
      "text/plain": [
       "<Figure size 1200x500 with 2 Axes>"
      ]
     },
     "metadata": {},
     "output_type": "display_data"
    },
    {
     "data": {
      "image/png": "[encoded data removed]",
      "text/plain": [
       "<Figure size 1200x500 with 2 Axes>"
      ]
     },
     "metadata": {},
     "output_type": "display_data"
    }
   ],
   "source": [
    "categorical_cols = data.select_dtypes(include='object').columns.drop('churn')\n",
    "\n",
    "for col in categorical_cols:\n",
    "    fig, axes = plt.subplots(1, 2, figsize=(12, 5))\n",
    "\n",
    "    churn_dist = (\n",
    "        data.groupby(col)['churn']\n",
    "        .value_counts(normalize=True)\n",
    "        .rename('proportion')\n",
    "        .reset_index()\n",
    "    )\n",
    "\n",
    "    sns.barplot(\n",
    "        x=col,\n",
    "        y='proportion',\n",
    "        hue='churn',\n",
    "        data=churn_dist,\n",
    "        ax=axes[0]\n",
    "    )\n",
    "    axes[0].set_title(f'Распределение churn по {col}')\n",
    "    axes[0].set_ylabel('Доля клиентов')\n",
    "    axes[0].tick_params(axis='x', rotation=45)\n",
    "    axes[0].set_ylim(0, 1) \n",
    "\n",
    "    pie_counts = data[col].value_counts()\n",
    "    wedges, texts, autotexts = axes[1].pie(\n",
    "        pie_counts,\n",
    "        labels=pie_counts.index,\n",
    "        autopct='%1.0f%%',\n",
    "        startangle=140\n",
    "    )\n",
    "    axes[1].set_title(f'Распределение значений {col}')\n",
    "    for text in texts + autotexts:\n",
    "        text.set_fontsize(10)\n",
    "\n",
    "    plt.tight_layout()\n",
    "    plt.show()"
   ]
  },
  {
   "cell_type": "markdown",
   "id": "ddb5d661-292c-4c82-bf5e-5698730a48fc",
   "metadata": {},
   "source": [
    "**Вывод:**\n",
    "- 1.\t`gender`: отток почти одинаковый у мужчин и женщин — скорее всего, пол незначимый фактор.\n",
    "- 2.\t`partner` и `dependents`: люди без партнера и детей чаще уходят. Возможно, клиенты с семьей более стабильны.\n",
    "- 3.\t`internet_service`: наибольший отток у клиентов с *Fiber optic*. Это может быть связано с тарифами или качеством услуг.\n",
    "- 4.\t`online_security`, `tech_support`, `device_protection`: отсутствие этих опций — повышенный отток. Возможно, наличие этих сервисов повышает лояльность.\n",
    "- 5.\t`contract`: краткосрочные контракты сильно коррелируют с оттоком. Люди на *Month-to-month* уходят в разы чаще.\n",
    "- 6.\t`payment_method`: самый высокий отток у тех, кто платит через *Electronic check* — возможно, это менее удобный или менее надежный способ оплаты.\n"
   ]
  },
  {
   "cell_type": "markdown",
   "id": "830bd92a",
   "metadata": {},
   "source": [
    "## 📊 Визуализация числовых признаков"
   ]
  },
  {
   "cell_type": "code",
   "execution_count": null,
   "id": "8fcc4c08-3c22-4acc-a4e0-ce26d64d99ff",
   "metadata": {},
   "outputs": [],
   "source": [
    "data.describe().T"
   ]
  },
  {
   "cell_type": "code",
   "execution_count": null,
   "id": "03c0a25a-4cb3-4ec9-b396-77c5d028e13b",
   "metadata": {
    "scrolled": true
   },
   "outputs": [],
   "source": [
    "numerical_cols = data.select_dtypes(include='number').columns.drop('senior_citizen', errors='ignore')\n",
    "\n",
    "for col in numerical_cols:\n",
    "    fig, axes = plt.subplots(1, 2, figsize=(12, 4))\n",
    "    \n",
    "    # Гистограмма\n",
    "    sns.histplot(data[col], bins=30, kde=True, ax=axes[0])\n",
    "    axes[0].set_title(f'Распределение {col}')\n",
    "    axes[0].set_xlabel(col)\n",
    "    axes[0].set_ylabel('Частота')\n",
    "    \n",
    "    # Диаграмма размаха\n",
    "    sns.boxplot(x=data[col], ax=axes[1])\n",
    "    axes[1].set_title(f'Ящиковая диаграмма {col}')\n",
    "    axes[1].set_xlabel(col)\n",
    "\n",
    "    plt.tight_layout()\n",
    "    plt.show()"
   ]
  },
  {
   "cell_type": "markdown",
   "id": "bca5d26d-6883-446e-b211-3c6cd2dd8c3f",
   "metadata": {},
   "source": [
    "📈 **Вывод:** Распределения числовых признаков различны: `tenure` имеет пики в начале и в конце, `monthly_charges` почти равномерно с акцентом на нижней границе (18–30), небольшой пик в конце, `total_charges` распределен асимметрично. Явных выбросов не наблюдается."
   ]
  },
  {
   "cell_type": "markdown",
   "id": "d34f1786",
   "metadata": {},
   "source": [
    "# 🔗 Корреляционный анализ"
   ]
  },
  {
   "cell_type": "code",
   "execution_count": null,
   "id": "7673bd76-c33d-42b2-910d-e1b774525661",
   "metadata": {},
   "outputs": [],
   "source": [
    "def cramers_v(x, y):\n",
    "    confusion_matrix = pd.crosstab(x, y)\n",
    "    chi2 = chi2_contingency(confusion_matrix)[0]\n",
    "    n = confusion_matrix.sum().sum()\n",
    "    r, k = confusion_matrix.shape\n",
    "    return np.sqrt(chi2 / (n * (min(k, r) - 1)))\n",
    "\n",
    "data['churn_numeric'] = data['churn'].map({'No': 0, 'Yes': 1})\n",
    "\n",
    "numeric_cols = data.select_dtypes(include='number').columns.drop('churn_numeric')\n",
    "num_corr = data[numeric_cols].corrwith(data['churn_numeric']).abs()\n",
    "num_corr = pd.DataFrame({'feature': num_corr.index, 'correlation': num_corr.values})\n",
    "\n",
    "cat_cols = data.select_dtypes(include='object').columns.drop('churn')\n",
    "cat_corr = {col: cramers_v(data[col], data['churn']) for col in cat_cols}\n",
    "cat_corr = pd.DataFrame({'feature': list(cat_corr.keys()), 'correlation': list(cat_corr.values())})\n",
    "\n",
    "all_corr = pd.concat([num_corr, cat_corr], ignore_index=True)\n",
    "all_corr = all_corr.sort_values(by='correlation', ascending=False)\n",
    "\n",
    "plt.figure(figsize=(16, 8))\n",
    "sns.barplot(\n",
    "    data=all_corr,\n",
    "    x='feature',\n",
    "    y='correlation',\n",
    "    palette=sns.color_palette('rocket', n_colors=len(all_corr)) \n",
    ")\n",
    "plt.axhline(y=0.1, color='red', linestyle='-')\n",
    "plt.xticks(rotation=45, ha='right')\n",
    "plt.title('Общая сила связи признаков с churn', fontsize=14)\n",
    "plt.ylabel('Значение корреляции / силы связи')\n",
    "plt.tight_layout()\n",
    "plt.show()"
   ]
  },
  {
   "cell_type": "code",
   "execution_count": null,
   "id": "2e07eda3-9aed-4405-8f5c-bcbfee94e00f",
   "metadata": {},
   "outputs": [],
   "source": [
    "data = data.drop(['multiple_lines', 'phone_service', 'gender'], axis = 1)"
   ]
  },
  {
   "cell_type": "code",
   "execution_count": null,
   "id": "bd627b6f-cec3-492a-a30b-581e125550c7",
   "metadata": {},
   "outputs": [],
   "source": [
    "corr_data = data.copy()\n",
    "\n",
    "cat_cols = corr_data.select_dtypes(include='object').columns\n",
    "encoder = OrdinalEncoder()\n",
    "corr_data[cat_cols] = encoder.fit_transform(corr_data[cat_cols])\n",
    "\n",
    "corr_data['churn_numeric'] = corr_data['churn'].map({'No': 0, 'Yes': 1})\n",
    "\n",
    "# Строим матрицу корреляции\n",
    "corr_matrix = corr_data.corr()\n",
    "\n",
    "plt.figure(figsize=(16, 12))\n",
    "sns.heatmap(corr_matrix, annot=True, fmt=\".2f\", cmap=\"coolwarm\", linewidths=0.5)\n",
    "plt.title(\"Матрица корреляции всех признаков (включая категориальные)\")\n",
    "plt.show()"
   ]
  },
  {
   "cell_type": "markdown",
   "id": "1cad08aa",
   "metadata": {},
   "source": [
    "🔗 **Вывод:** \n",
    "- Удалены признаки, которые коррелируют с целевым признаком меньше чем на 0.1\n",
    "- Наибольшую корреляцию с оттоком показывают признаки `contract`, `tenure`, `online_security`, что подтверждает важность этих переменных в моделировании."
   ]
  },
  {
   "cell_type": "markdown",
   "id": "070547fe",
   "metadata": {},
   "source": [
    "# 🧹 Подготовка данных"
   ]
  },
  {
   "cell_type": "code",
   "execution_count": null,
   "id": "e94ca369-9abe-49f3-8eea-d7da462d0d26",
   "metadata": {},
   "outputs": [],
   "source": [
    "target = 'churn_numeric'\n",
    "\n",
    "RANDOM_STATE = 42\n",
    "TEST_SIZE = 0.2\n",
    "\n",
    "X = data.drop(columns=['churn', 'churn_numeric']) \n",
    "y = data[target]\n",
    "\n",
    "X_train, X_test, y_train, y_test = train_test_split(X, \n",
    "                                                    y, \n",
    "                                                    test_size=TEST_SIZE, \n",
    "                                                    stratify=y, \n",
    "                                                    random_state=RANDOM_STATE)"
   ]
  },
  {
   "cell_type": "code",
   "execution_count": null,
   "id": "08e47596-2722-438b-80fc-b224eb45a0d8",
   "metadata": {},
   "outputs": [],
   "source": [
    "categorical_cols = X.select_dtypes(include='object').columns.tolist()\n",
    "\n",
    "ord_columns = [data.columns.tolist()[-7]]\n",
    "ohe_columns = list(set(categorical_cols) - set(ord_columns))\n",
    "num_columns = X_train.select_dtypes(include='number').columns.tolist()\n",
    "\n",
    "print(ohe_columns)\n",
    "print(ord_columns)\n",
    "print(num_columns)\n",
    "print(data['contract'].unique())"
   ]
  },
  {
   "cell_type": "code",
   "execution_count": null,
   "id": "6a5f0f5f-cb92-41a2-803c-e7791829549c",
   "metadata": {},
   "outputs": [],
   "source": [
    "ohe_pipe = Pipeline([\n",
    "    ('imputer', SimpleImputer(strategy='most_frequent')),\n",
    "    ('ohe', OneHotEncoder(drop='first', handle_unknown='ignore', sparse_output=False))\n",
    "])\n",
    "\n",
    "ord_pipe = Pipeline([\n",
    "    ('imputer1', SimpleImputer(strategy='most_frequent')),\n",
    "    ('ord', OrdinalEncoder(categories=[['Month-to-month', 'One year', 'Two year']],\n",
    "                           handle_unknown='use_encoded_value', unknown_value=np.nan)),\n",
    "    ('imputer2', SimpleImputer(strategy='most_frequent'))\n",
    "])\n",
    "\n",
    "num_pipe = Pipeline([\n",
    "    ('imputer', SimpleImputer(strategy='mean')),\n",
    "    ('scaler', StandardScaler())\n",
    "])\n",
    "\n",
    "data_preprocessor = ColumnTransformer([\n",
    "    ('ohe', ohe_pipe, ohe_columns),\n",
    "    ('ord', ord_pipe, ord_columns),\n",
    "    ('num', num_pipe, num_columns)\n",
    "], remainder='drop')\n",
    "\n",
    "pipe_final = Pipeline([\n",
    "    ('preprocessor', data_preprocessor),\n",
    "    ('models', LogisticRegression())\n",
    "])\n",
    "\n",
    "param_grid = [\n",
    "    {\n",
    "        'models': [DecisionTreeClassifier(random_state=RANDOM_STATE)],\n",
    "        'models__max_depth': range(2, 6),\n",
    "        'models__min_samples_leaf': range(2, 5),\n",
    "        'models__min_samples_split': range(2, 6),\n",
    "    },\n",
    "    {\n",
    "        'models': [CatBoostClassifier(verbose=0)],\n",
    "        'models__depth': [4, 6],\n",
    "        'models__learning_rate': [0.03, 0.1],\n",
    "        'models__iterations': [100, 200]\n",
    "    },\n",
    "    {\n",
    "        'models': [LogisticRegression(\n",
    "            random_state=RANDOM_STATE,\n",
    "            solver='liblinear',\n",
    "            penalty='l1')],\n",
    "        'models__C': range(1, 15),\n",
    "        'preprocessor__num__scaler': [StandardScaler(), MinMaxScaler()]\n",
    "    },\n",
    "    {\n",
    "        'models': [XGBClassifier(verbosity=0, use_label_encoder=False)],\n",
    "        'models__n_estimators': [100, 200],\n",
    "        'models__max_depth': [5, 10],\n",
    "        'models__learning_rate': [0.05, 0.1]\n",
    "    },\n",
    "    {\n",
    "        'models': [LGBMClassifier(verbose = -1)],\n",
    "        'models__n_estimators': [100, 200],\n",
    "        'models__max_depth': [5, 10],\n",
    "        'models__learning_rate': [0.05, 0.1]\n",
    "    }\n",
    "]"
   ]
  },
  {
   "cell_type": "markdown",
   "id": "4db883a9",
   "metadata": {},
   "source": [
    "# 🤖 Построение моделей и подбор гиперпараметров"
   ]
  },
  {
   "cell_type": "code",
   "execution_count": null,
   "id": "cb9f3ef2-8370-4801-a26a-2aec9e411bd1",
   "metadata": {
    "scrolled": true
   },
   "outputs": [],
   "source": [
    "grid = GridSearchCV(\n",
    "    pipe_final, \n",
    "    param_grid, \n",
    "    cv=3, \n",
    "    scoring='roc_auc',\n",
    "    n_jobs=-1\n",
    ")\n",
    "grid.fit(X_train, y_train)"
   ]
  },
  {
   "cell_type": "code",
   "execution_count": null,
   "id": "541dd5aa-c446-4b3d-bf7f-47edab74258a",
   "metadata": {},
   "outputs": [],
   "source": [
    "cv_results = pd.DataFrame(grid.cv_results_)\n",
    "\n",
    "best_per_model = (\n",
    "    cv_results\n",
    "    .assign(model_name=cv_results['param_models'].apply(lambda x: x.__class__.__name__))\n",
    "    .sort_values('mean_test_score', ascending=False)\n",
    "    .drop_duplicates(subset='model_name', keep='first')\n",
    "    [['model_name', 'params', 'mean_test_score']]\n",
    "    .rename(columns={\n",
    "        'model_name': 'Model',\n",
    "        'params': 'Best Params',\n",
    "        'mean_test_score': 'ROC AUC (CV)'\n",
    "    })\n",
    "    .reset_index(drop=True)\n",
    ")\n",
    "\n",
    "best_per_model = best_per_model.sort_values('ROC AUC (CV)', ascending=False).reset_index(drop=True)\n",
    "\n",
    "display(best_per_model)\n",
    "\n",
    "best_model_name = best_per_model.iloc[0]['Model']\n",
    "display(Markdown(f\"**Лучшая модель по метрике ROC AUC: `{best_model_name}`**\"))"
   ]
  },
  {
   "cell_type": "markdown",
   "id": "a7d86525-c4a5-40cf-8241-151572bed1d4",
   "metadata": {},
   "source": [
    "🏆 **Вывод:** Лучшую метрику ROC-AUC показала модель `CatBoostClassifier`, она будет использоваться для дальнейшего анализа и оптимизации."
   ]
  },
  {
   "cell_type": "markdown",
   "id": "0c1e3e71",
   "metadata": {},
   "source": [
    "# 📌 Отбор признаков по важности"
   ]
  },
  {
   "cell_type": "code",
   "execution_count": null,
   "id": "05ba7ac1-f1cf-4ee8-bbbf-e6b0c91203bc",
   "metadata": {},
   "outputs": [],
   "source": [
    "catboost_model = grid.best_estimator_.named_steps['models']\n",
    "\n",
    "X_train_transformed = grid.best_estimator_.named_steps['preprocessor'].transform(X_train)\n",
    "\n",
    "feature_names = list(grid.best_estimator_.named_steps['preprocessor'].get_feature_names_out())\n",
    "\n",
    "pool = Pool(X_train_transformed, label=y_train, feature_names=feature_names)\n",
    "\n",
    "catboost_model.fit(pool, verbose=0)\n",
    "\n",
    "feature_importances = catboost_model.get_feature_importance(prettified=True)\n",
    "\n",
    "top_features = feature_importances.sort_values(by='Importances', ascending=False).head(20)\n",
    "plt.figure(figsize=(10, 6))\n",
    "plt.barh(top_features['Feature Id'], top_features['Importances'])\n",
    "plt.gca().invert_yaxis()\n",
    "plt.title('Топ 20 признаков по важности')\n",
    "plt.xlabel('Importance')\n",
    "plt.show()"
   ]
  },
  {
   "cell_type": "code",
   "execution_count": null,
   "id": "7ee82fbd-ef9f-4712-9e9e-edb95331c722",
   "metadata": {},
   "outputs": [],
   "source": [
    "N = 20  \n",
    "top_features = feature_importances.sort_values(by='Importances', ascending=False).head(N)['Feature Id'].tolist()\n",
    "\n",
    "X_train_df = pd.DataFrame(X_train_transformed, columns=feature_names)\n",
    "\n",
    "X_top = X_train_df[top_features]\n",
    "\n",
    "best_params = grid.best_params_\n",
    "catboost_top = CatBoostClassifier(**{k.replace('models__', ''): v for k, v in best_params.items() if 'models__' in k}, verbose=0)\n",
    "\n",
    "roc_auc_scores = cross_val_score(catboost_top, X_top, y_train, scoring='roc_auc', cv=3, n_jobs=-1)\n",
    "\n",
    "print(f\"🎯 ROC AUC после отбора топ-{N} признаков: {roc_auc_scores.mean():.4f}\")"
   ]
  },
  {
   "cell_type": "markdown",
   "id": "5831b111",
   "metadata": {},
   "source": [
    "✅ **Вывод:** Из всех признаков отобраны топ-20 наиболее важных. Они используются для обучения модели."
   ]
  },
  {
   "cell_type": "markdown",
   "id": "81272ef8",
   "metadata": {},
   "source": [
    "# 🎯 Оптимизация порога"
   ]
  },
  {
   "cell_type": "code",
   "execution_count": null,
   "id": "e9899836-31d1-48c4-b9fa-f5b43b22c8bd",
   "metadata": {},
   "outputs": [],
   "source": [
    "catboost_top.fit(X_top, y_train, verbose=0)\n",
    "y_train_proba = catboost_top.predict_proba(X_top)[:, 1]\n",
    "\n",
    "thresholds = np.linspace(0.1, 0.9, 100)\n",
    "results = []\n",
    "\n",
    "for t in thresholds:\n",
    "    y_pred = (y_train_proba >= t).astype(int)\n",
    "    precision = precision_score(y_train, y_pred)\n",
    "    recall = recall_score(y_train, y_pred)\n",
    "    f1 = f1_score(y_train, y_pred)\n",
    "    results.append((t, precision, recall, f1))\n",
    "\n",
    "metrics_df = pd.DataFrame(results, columns=[\"threshold\", \"precision\", \"recall\", \"f1\"])\n",
    "\n",
    "filtered = metrics_df[metrics_df[\"precision\"] >= 0.6]\n",
    "best_row = filtered.sort_values(by=\"recall\", ascending=False).iloc[0]\n",
    "best_threshold = best_row[\"threshold\"]\n",
    "\n",
    "print(f\"✅ Оптимальный порог: {best_threshold:.2f}\")\n",
    "print(f\"Precision: {best_row['precision']:.4f}, Recall: {best_row['recall']:.4f}, F1: {best_row['f1']:.4f}\")"
   ]
  },
  {
   "cell_type": "markdown",
   "id": "ea28702d",
   "metadata": {},
   "source": [
    "🎯 **Вывод:** С использованием адаптированного порога модель стала лучше идентифицировать клиентов, которые с высокой вероятностью уйдут, сохраняя приемлемый уровень precision."
   ]
  },
  {
   "cell_type": "markdown",
   "id": "1ad68e2c",
   "metadata": {},
   "source": [
    "# ⚙️ Финальная модель"
   ]
  },
  {
   "cell_type": "code",
   "execution_count": null,
   "id": "53cccdd0-966c-4ac5-ad31-1bb0d09be774",
   "metadata": {
    "scrolled": true
   },
   "outputs": [],
   "source": [
    "X_test_transformed = grid.best_estimator_.named_steps['preprocessor'].transform(X_test)\n",
    "X_test_df = pd.DataFrame(X_test_transformed, columns=feature_names)\n",
    "X_test_top = X_test_df[top_features]\n",
    "\n",
    "y_test_proba = catboost_top.predict_proba(X_test_top)[:, 1]\n",
    "y_test_pred = (y_test_proba >= best_threshold).astype(int)\n",
    "\n",
    "roc_auc_test = roc_auc_score(y_test, y_test_proba)\n",
    "print(f\"🚀 ROC-AUC на тестовой выборке (адаптированный порог): {roc_auc_test:.4f}\")\n",
    "\n",
    "fpr, tpr, _ = roc_curve(y_test, y_test_proba)\n",
    "plt.figure(figsize=(8, 6))\n",
    "plt.plot(fpr, tpr, label=f'ROC Curve (AUC = {roc_auc_test:.4f})')\n",
    "plt.plot([0, 1], [0, 1], linestyle='--', color='gray')\n",
    "plt.xlabel('False Positive Rate')\n",
    "plt.ylabel('True Positive Rate')\n",
    "plt.title('ROC-кривая на тестовой выборке')\n",
    "plt.legend()\n",
    "plt.grid()\n",
    "plt.tight_layout()\n",
    "plt.show()\n",
    "\n",
    "cm = confusion_matrix(y_test, y_test_pred)\n",
    "disp = ConfusionMatrixDisplay(confusion_matrix=cm, display_labels=catboost_top.classes_)\n",
    "disp.plot(cmap=\"Blues\")\n",
    "plt.title(\"Матрица ошибок с адаптированным порогом\")\n",
    "plt.tight_layout()\n",
    "plt.show()"
   ]
  },
  {
   "cell_type": "markdown",
   "id": "127fa999",
   "metadata": {},
   "source": [
    "# 📌 Финальные выводы\n",
    "\n",
    "- Был проведён полный цикл анализа оттока клиентов телеком-компании: от разведочного анализа до построения моделей.\n",
    "- После обработки данных и отбора признаков была построена модель `CatBoostClassifier`, показывающая ROC-AUC на тесте **0.84**.\n",
    "- Учтён дисбаланс классов и подобран оптимальный порог, минимизирующий ошибки второго рода (модель лучше нацелена на предсказывание уходящих клиентов).\n",
    "- Наибольшую корреляцию с оттоком показывают признаки `contract`, `tenure`, `online_security`. Они больше всего влияют на предсказание.\n",
    "\n",
    "📦 Итог: модель готова к использованию в продакшн-окружении для предсказания ухода клиентов и принятия соответствующих мер."
   ]
  }
 ],
 "metadata": {
  "kernelspec": {
   "display_name": "Python 3 (ipykernel)",
   "language": "python",
   "name": "python3"
  },
  "language_info": {
   "codemirror_mode": {
    "name": "ipython",
    "version": 3
   },
   "file_extension": ".py",
   "mimetype": "text/x-python",
   "name": "python",
   "nbconvert_exporter": "python",
   "pygments_lexer": "ipython3",
   "version": "3.13.0"
  }
 },
 "nbformat": 4,
 "nbformat_minor": 5
}
